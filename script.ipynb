{
 "cells": [
  {
   "cell_type": "markdown",
   "metadata": {},
   "source": [
    "##### BIBLIOTECAS"
   ]
  },
  {
   "cell_type": "code",
   "execution_count": 15,
   "metadata": {},
   "outputs": [],
   "source": [
    "import pandas as pd\n",
    "import numpy as np\n",
    "from binance.client import Client\n",
    "import os\n",
    "from google.cloud import bigquery\n",
    "from google.oauth2 import service_account"
   ]
  },
  {
   "cell_type": "markdown",
   "metadata": {},
   "source": [
    "##### VARIAVEL PARA CONEXÃO COM O GOOGLE BIGQUERY"
   ]
  },
  {
   "cell_type": "code",
   "execution_count": 16,
   "metadata": {},
   "outputs": [],
   "source": [
    "credentials = service_account.Credentials.from_service_account_file(\"C:\\Development\\ETL-Binance\\GBQ.json\",\n",
    "                                                                    scopes=[\"https://www.googleapis.com/auth/cloud-platform\", \"https://www.googleapis.com/auth/drive\"])"
   ]
  },
  {
   "cell_type": "markdown",
   "metadata": {},
   "source": [
    "# EXTRACT"
   ]
  },
  {
   "cell_type": "markdown",
   "metadata": {},
   "source": [
    "##### CONEXÃO COM A API DA BINANCE"
   ]
  },
  {
   "cell_type": "code",
   "execution_count": 17,
   "metadata": {},
   "outputs": [],
   "source": [
    "api_key = os.getenv(key = 'BINANCE_API_KEY')\n",
    "api_secret = os.getenv(key = 'BINANCE_SECRET_KEY')\n",
    "client = Client(api_key, api_secret)"
   ]
  },
  {
   "cell_type": "markdown",
   "metadata": {},
   "source": [
    "##### FUNÇÃO PARA UTILIZAÇÃO DA CHAMADA DE API PARA TODOS OS ATIVOS DA BINANCE\n",
    "##### 1 - MANIPULAÇÃO DA DATA PARA MELHOR VISUALIZAÇÃO\n",
    "##### 2 - MANIPULAÇÃO DE DATAFRAME - SELECIONANDO COLUNAS RELEVANTES"
   ]
  },
  {
   "cell_type": "code",
   "execution_count": 18,
   "metadata": {},
   "outputs": [],
   "source": [
    "def binanceDataFrame(symbol):\n",
    "    ar = np.array(client.get_historical_klines(symbol = symbol,\n",
    "                             interval = Client.KLINE_INTERVAL_1HOUR,\n",
    "                             start_str = '1 Jan, 2023'))\n",
    "    \n",
    "    df = pd.DataFrame(ar, dtype = str, columns= (\"Open_Time\",\n",
    "                                                \"Open\",\n",
    "                                                \"High\",\n",
    "                                                \"Low\",\n",
    "                                                \"Close\",\n",
    "                                                \"Volume\",\n",
    "                                                \"Close_Time\",\n",
    "                                                \"Quote asset Volume\",\n",
    "                                                \"Number_of_trades\",\n",
    "                                                \"Taker buy base asset\",\n",
    "                                                \"Taker buy quote asset\",\n",
    "                                                \"Ignore\"))\n",
    "    \n",
    "    df['Open_Time'] = pd.to_datetime(df['Open_Time'], unit = 'ms').dt.tz_localize('UTC').dt.tz_convert('America/Sao_Paulo')\n",
    "    df['Close_Time'] = pd.to_datetime(df['Close_Time'], unit = 'ms').dt.tz_localize('UTC').dt.tz_convert('America/Sao_Paulo')\n",
    "    df = df[[\"Open_Time\",\n",
    "    \"Open\",\n",
    "     \"High\",\n",
    "     \"Low\",\n",
    "     \"Close\",\n",
    "     \"Volume\",\n",
    "     \"Close_Time\",\n",
    "     \"Number_of_trades\"]]\n",
    "    \n",
    "    return df"
   ]
  },
  {
   "cell_type": "markdown",
   "metadata": {},
   "source": [
    "##### EXTRAÇÃO DOS DADOS DO ITEM SELECIONADO PELO SEU SIMBOLO ATRAVÉS DA FUNÇÃO"
   ]
  },
  {
   "cell_type": "code",
   "execution_count": 19,
   "metadata": {},
   "outputs": [
    {
     "name": "stderr",
     "output_type": "stream",
     "text": [
      "C:\\Users\\mateu\\AppData\\Local\\Temp\\ipykernel_7904\\3366114436.py:19: FutureWarning: The behavior of 'to_datetime' with 'unit' when parsing strings is deprecated. In a future version, strings will be parsed as datetime strings, matching the behavior without a 'unit'. To retain the old behavior, explicitly cast ints or floats to numeric type before calling to_datetime.\n",
      "  df['Open_Time'] = pd.to_datetime(df['Open_Time'], unit = 'ms').dt.tz_localize('UTC').dt.tz_convert('America/Sao_Paulo')\n",
      "C:\\Users\\mateu\\AppData\\Local\\Temp\\ipykernel_7904\\3366114436.py:20: FutureWarning: The behavior of 'to_datetime' with 'unit' when parsing strings is deprecated. In a future version, strings will be parsed as datetime strings, matching the behavior without a 'unit'. To retain the old behavior, explicitly cast ints or floats to numeric type before calling to_datetime.\n",
      "  df['Close_Time'] = pd.to_datetime(df['Close_Time'], unit = 'ms').dt.tz_localize('UTC').dt.tz_convert('America/Sao_Paulo')\n"
     ]
    }
   ],
   "source": [
    "\n",
    "btc = binanceDataFrame(symbol= 'BTCUSDT')"
   ]
  },
  {
   "cell_type": "code",
   "execution_count": 20,
   "metadata": {},
   "outputs": [
    {
     "name": "stderr",
     "output_type": "stream",
     "text": [
      "C:\\Users\\mateu\\AppData\\Local\\Temp\\ipykernel_7904\\3366114436.py:19: FutureWarning: The behavior of 'to_datetime' with 'unit' when parsing strings is deprecated. In a future version, strings will be parsed as datetime strings, matching the behavior without a 'unit'. To retain the old behavior, explicitly cast ints or floats to numeric type before calling to_datetime.\n",
      "  df['Open_Time'] = pd.to_datetime(df['Open_Time'], unit = 'ms').dt.tz_localize('UTC').dt.tz_convert('America/Sao_Paulo')\n",
      "C:\\Users\\mateu\\AppData\\Local\\Temp\\ipykernel_7904\\3366114436.py:20: FutureWarning: The behavior of 'to_datetime' with 'unit' when parsing strings is deprecated. In a future version, strings will be parsed as datetime strings, matching the behavior without a 'unit'. To retain the old behavior, explicitly cast ints or floats to numeric type before calling to_datetime.\n",
      "  df['Close_Time'] = pd.to_datetime(df['Close_Time'], unit = 'ms').dt.tz_localize('UTC').dt.tz_convert('America/Sao_Paulo')\n"
     ]
    }
   ],
   "source": [
    "eth = binanceDataFrame(symbol= 'ETHUSDT')"
   ]
  },
  {
   "cell_type": "markdown",
   "metadata": {},
   "source": [
    "# TRANSFORM"
   ]
  },
  {
   "cell_type": "markdown",
   "metadata": {},
   "source": [
    "##### CRIAÇÃO DE BANDAS DE BOLLINGER"
   ]
  },
  {
   "cell_type": "markdown",
   "metadata": {},
   "source": [
    "##### MEDIA MOVEL ULTIMAS 20 HORAS"
   ]
  },
  {
   "cell_type": "code",
   "execution_count": 21,
   "metadata": {},
   "outputs": [],
   "source": [
    "\n",
    "btc['MediaMovel20'] = btc['Close'].shift(1).rolling(20).mean()"
   ]
  },
  {
   "cell_type": "code",
   "execution_count": 22,
   "metadata": {},
   "outputs": [],
   "source": [
    "eth['MediaMovel20'] = eth['Close'].shift(1).rolling(20).mean()"
   ]
  },
  {
   "cell_type": "markdown",
   "metadata": {},
   "source": [
    "##### DESVIO PADRÃO ULTIMAS 20 HORAS"
   ]
  },
  {
   "cell_type": "code",
   "execution_count": 23,
   "metadata": {},
   "outputs": [],
   "source": [
    "\n",
    "btc['DesvioPadrao20'] = btc['Close'].shift(1).rolling(20).std()"
   ]
  },
  {
   "cell_type": "code",
   "execution_count": 24,
   "metadata": {},
   "outputs": [],
   "source": [
    "eth['DesvioPadrao20'] = eth['Close'].shift(1).rolling(20).std()"
   ]
  },
  {
   "cell_type": "markdown",
   "metadata": {},
   "source": [
    "##### BANDA INFERIOR DE BOLLINGER"
   ]
  },
  {
   "cell_type": "code",
   "execution_count": 25,
   "metadata": {},
   "outputs": [],
   "source": [
    "\n",
    "btc['Banda_Inferior'] = btc['MediaMovel20'] - 2*btc[\"DesvioPadrao20\"]\n",
    "btc['Banda_Superior'] = btc['MediaMovel20'] + 2*btc[\"DesvioPadrao20\"]"
   ]
  },
  {
   "cell_type": "code",
   "execution_count": 26,
   "metadata": {},
   "outputs": [],
   "source": [
    "eth['Banda_Inferior'] = eth['MediaMovel20'] - 2*eth[\"DesvioPadrao20\"]\n",
    "eth['Banda_Superior'] = eth['MediaMovel20'] + 2*eth[\"DesvioPadrao20\"]"
   ]
  },
  {
   "cell_type": "markdown",
   "metadata": {},
   "source": [
    "# LOAD\n",
    "\n",
    "##### DIRECIONAMENTO DO CSV PARA O GCP - BIGQUERY ATRAVÉS DA CONEXÃO COM A API"
   ]
  },
  {
   "cell_type": "code",
   "execution_count": 27,
   "metadata": {},
   "outputs": [],
   "source": [
    "btc.to_gbq(credentials=credentials, destination_table='etlBinance.btc', if_exists='replace')"
   ]
  },
  {
   "cell_type": "code",
   "execution_count": 28,
   "metadata": {},
   "outputs": [],
   "source": [
    "eth.to_gbq(credentials=credentials, destination_table='etlBinance.eth', if_exists='replace')"
   ]
  }
 ],
 "metadata": {
  "kernelspec": {
   "display_name": "Python 3",
   "language": "python",
   "name": "python3"
  },
  "language_info": {
   "codemirror_mode": {
    "name": "ipython",
    "version": 3
   },
   "file_extension": ".py",
   "mimetype": "text/x-python",
   "name": "python",
   "nbconvert_exporter": "python",
   "pygments_lexer": "ipython3",
   "version": "3.11.4"
  }
 },
 "nbformat": 4,
 "nbformat_minor": 2
}
